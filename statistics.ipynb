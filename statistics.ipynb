{
 "cells": [
  {
   "cell_type": "code",
   "execution_count": 1,
   "metadata": {},
   "outputs": [],
   "source": [
    "import pandas as pd"
   ]
  },
  {
   "cell_type": "code",
   "execution_count": 13,
   "metadata": {},
   "outputs": [
    {
     "data": {
      "text/html": [
       "<div>\n",
       "<style scoped>\n",
       "    .dataframe tbody tr th:only-of-type {\n",
       "        vertical-align: middle;\n",
       "    }\n",
       "\n",
       "    .dataframe tbody tr th {\n",
       "        vertical-align: top;\n",
       "    }\n",
       "\n",
       "    .dataframe thead th {\n",
       "        text-align: right;\n",
       "    }\n",
       "</style>\n",
       "<table border=\"1\" class=\"dataframe\">\n",
       "  <thead>\n",
       "    <tr style=\"text-align: right;\">\n",
       "      <th></th>\n",
       "      <th>Tiempo total de ejecución</th>\n",
       "      <th>Tiempo empleado en desplazamientos</th>\n",
       "      <th>Número medio de servicios al mes</th>\n",
       "      <th>Tiempo medio aranjuez - ocaña</th>\n",
       "    </tr>\n",
       "  </thead>\n",
       "  <tbody>\n",
       "    <tr>\n",
       "      <th>0</th>\n",
       "      <td>9875.10</td>\n",
       "      <td>1208.01</td>\n",
       "      <td>71</td>\n",
       "      <td>994</td>\n",
       "    </tr>\n",
       "    <tr>\n",
       "      <th>1</th>\n",
       "      <td>9605.91</td>\n",
       "      <td>1205.02</td>\n",
       "      <td>74</td>\n",
       "      <td>659</td>\n",
       "    </tr>\n",
       "    <tr>\n",
       "      <th>2</th>\n",
       "      <td>10000.99</td>\n",
       "      <td>1195.38</td>\n",
       "      <td>75</td>\n",
       "      <td>576</td>\n",
       "    </tr>\n",
       "    <tr>\n",
       "      <th>3</th>\n",
       "      <td>9607.04</td>\n",
       "      <td>1248.71</td>\n",
       "      <td>66</td>\n",
       "      <td>774</td>\n",
       "    </tr>\n",
       "    <tr>\n",
       "      <th>4</th>\n",
       "      <td>9670.88</td>\n",
       "      <td>1294.63</td>\n",
       "      <td>73</td>\n",
       "      <td>625</td>\n",
       "    </tr>\n",
       "  </tbody>\n",
       "</table>\n",
       "</div>"
      ],
      "text/plain": [
       "   Tiempo total de ejecución  Tiempo empleado en desplazamientos  \\\n",
       "0                    9875.10                             1208.01   \n",
       "1                    9605.91                             1205.02   \n",
       "2                   10000.99                             1195.38   \n",
       "3                    9607.04                             1248.71   \n",
       "4                    9670.88                             1294.63   \n",
       "\n",
       "   Número medio de servicios al mes  Tiempo medio aranjuez - ocaña  \n",
       "0                                71                            994  \n",
       "1                                74                            659  \n",
       "2                                75                            576  \n",
       "3                                66                            774  \n",
       "4                                73                            625  "
      ]
     },
     "execution_count": 13,
     "metadata": {},
     "output_type": "execute_result"
    }
   ],
   "source": [
    "col_names = ['Tiempo total de ejecución', 'Tiempo empleado en desplazamientos', 'Número medio de servicios al mes', 'Tiempo medio aranjuez - ocaña']\n",
    "\n",
    "df = pd.read_csv(\"output-A.txt\", names=col_names, sep=' ')\n",
    "df.head()"
   ]
  },
  {
   "cell_type": "code",
   "execution_count": 14,
   "metadata": {},
   "outputs": [
    {
     "data": {
      "text/html": [
       "<div>\n",
       "<style scoped>\n",
       "    .dataframe tbody tr th:only-of-type {\n",
       "        vertical-align: middle;\n",
       "    }\n",
       "\n",
       "    .dataframe tbody tr th {\n",
       "        vertical-align: top;\n",
       "    }\n",
       "\n",
       "    .dataframe thead th {\n",
       "        text-align: right;\n",
       "    }\n",
       "</style>\n",
       "<table border=\"1\" class=\"dataframe\">\n",
       "  <thead>\n",
       "    <tr style=\"text-align: right;\">\n",
       "      <th></th>\n",
       "      <th>Tiempo total de ejecución</th>\n",
       "      <th>Tiempo empleado en desplazamientos</th>\n",
       "      <th>Número medio de servicios al mes</th>\n",
       "      <th>Tiempo medio aranjuez - ocaña</th>\n",
       "    </tr>\n",
       "  </thead>\n",
       "  <tbody>\n",
       "    <tr>\n",
       "      <th>count</th>\n",
       "      <td>200.000000</td>\n",
       "      <td>200.000000</td>\n",
       "      <td>200.00000</td>\n",
       "      <td>200.000000</td>\n",
       "    </tr>\n",
       "    <tr>\n",
       "      <th>mean</th>\n",
       "      <td>9694.714300</td>\n",
       "      <td>1417.962350</td>\n",
       "      <td>69.19000</td>\n",
       "      <td>560.185000</td>\n",
       "    </tr>\n",
       "    <tr>\n",
       "      <th>std</th>\n",
       "      <td>104.791695</td>\n",
       "      <td>229.557145</td>\n",
       "      <td>6.73205</td>\n",
       "      <td>172.458343</td>\n",
       "    </tr>\n",
       "    <tr>\n",
       "      <th>min</th>\n",
       "      <td>9600.760000</td>\n",
       "      <td>840.210000</td>\n",
       "      <td>53.00000</td>\n",
       "      <td>282.000000</td>\n",
       "    </tr>\n",
       "    <tr>\n",
       "      <th>25%</th>\n",
       "      <td>9622.090000</td>\n",
       "      <td>1243.715000</td>\n",
       "      <td>64.00000</td>\n",
       "      <td>436.000000</td>\n",
       "    </tr>\n",
       "    <tr>\n",
       "      <th>50%</th>\n",
       "      <td>9654.400000</td>\n",
       "      <td>1409.200000</td>\n",
       "      <td>69.00000</td>\n",
       "      <td>525.500000</td>\n",
       "    </tr>\n",
       "    <tr>\n",
       "      <th>75%</th>\n",
       "      <td>9733.740000</td>\n",
       "      <td>1579.587500</td>\n",
       "      <td>74.00000</td>\n",
       "      <td>625.750000</td>\n",
       "    </tr>\n",
       "    <tr>\n",
       "      <th>max</th>\n",
       "      <td>10113.150000</td>\n",
       "      <td>2017.950000</td>\n",
       "      <td>86.00000</td>\n",
       "      <td>1307.000000</td>\n",
       "    </tr>\n",
       "  </tbody>\n",
       "</table>\n",
       "</div>"
      ],
      "text/plain": [
       "       Tiempo total de ejecución  Tiempo empleado en desplazamientos  \\\n",
       "count                 200.000000                          200.000000   \n",
       "mean                 9694.714300                         1417.962350   \n",
       "std                   104.791695                          229.557145   \n",
       "min                  9600.760000                          840.210000   \n",
       "25%                  9622.090000                         1243.715000   \n",
       "50%                  9654.400000                         1409.200000   \n",
       "75%                  9733.740000                         1579.587500   \n",
       "max                 10113.150000                         2017.950000   \n",
       "\n",
       "       Número medio de servicios al mes  Tiempo medio aranjuez - ocaña  \n",
       "count                         200.00000                     200.000000  \n",
       "mean                           69.19000                     560.185000  \n",
       "std                             6.73205                     172.458343  \n",
       "min                            53.00000                     282.000000  \n",
       "25%                            64.00000                     436.000000  \n",
       "50%                            69.00000                     525.500000  \n",
       "75%                            74.00000                     625.750000  \n",
       "max                            86.00000                    1307.000000  "
      ]
     },
     "execution_count": 14,
     "metadata": {},
     "output_type": "execute_result"
    }
   ],
   "source": [
    "statistics = df.describe()\n",
    "statistics"
   ]
  },
  {
   "cell_type": "code",
   "execution_count": 15,
   "metadata": {},
   "outputs": [
    {
     "name": "stdout",
     "output_type": "stream",
     "text": [
      "Media para todas las métricas:\n"
     ]
    },
    {
     "data": {
      "text/plain": [
       "Tiempo total de ejecución             9694.71430\n",
       "Tiempo empleado en desplazamientos    1417.96235\n",
       "Número medio de servicios al mes        69.19000\n",
       "Tiempo medio aranjuez - ocaña          560.18500\n",
       "Name: mean, dtype: float64"
      ]
     },
     "execution_count": 15,
     "metadata": {},
     "output_type": "execute_result"
    }
   ],
   "source": [
    "print(\"Media para todas las métricas:\")\n",
    "statistics.iloc[1]"
   ]
  },
  {
   "cell_type": "code",
   "execution_count": 16,
   "metadata": {},
   "outputs": [
    {
     "data": {
      "text/plain": [
       "array([[<AxesSubplot:title={'center':'Tiempo total de ejecución'}>,\n",
       "        <AxesSubplot:title={'center':'Tiempo empleado en desplazamientos'}>],\n",
       "       [<AxesSubplot:title={'center':'Número medio de servicios al mes'}>,\n",
       "        <AxesSubplot:title={'center':'Tiempo medio aranjuez - ocaña'}>]],\n",
       "      dtype=object)"
      ]
     },
     "execution_count": 16,
     "metadata": {},
     "output_type": "execute_result"
    },
    {
     "data": {
      "image/png": "[encoded data removed]",
      "text/plain": [
       "<Figure size 1080x720 with 4 Axes>"
      ]
     },
     "metadata": {
      "needs_background": "light"
     },
     "output_type": "display_data"
    }
   ],
   "source": [
    "df.hist(['Tiempo total de ejecución', 'Tiempo empleado en desplazamientos', 'Número medio de servicios al mes', 'Tiempo medio aranjuez - ocaña'], bins=100, figsize=(15,10), color='orange')"
   ]
  },
  {
   "cell_type": "code",
   "execution_count": null,
   "metadata": {},
   "outputs": [],
   "source": []
  }
 ],
 "metadata": {
  "interpreter": {
   "hash": "31f2aee4e71d21fbe5cf8b01ff0e069b9275f58929596ceb00d14d90e3e16cd6"
  },
  "kernelspec": {
   "display_name": "Python 3.7.5 64-bit",
   "language": "python",
   "name": "python3"
  },
  "language_info": {
   "codemirror_mode": {
    "name": "ipython",
    "version": 3
   },
   "file_extension": ".py",
   "mimetype": "text/x-python",
   "name": "python",
   "nbconvert_exporter": "python",
   "pygments_lexer": "ipython3",
   "version": "3.7.5"
  },
  "orig_nbformat": 4
 },
 "nbformat": 4,
 "nbformat_minor": 2
}
